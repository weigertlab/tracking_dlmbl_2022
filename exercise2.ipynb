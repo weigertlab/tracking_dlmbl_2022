{
 "cells": [
  {
   "cell_type": "markdown",
   "id": "6f53e266-571a-48a3-a881-e9a2e60d25b5",
   "metadata": {},
   "source": [
    "# Exercise 2/3: Tracking with Linear Assignment Problem (LAP)\n",
    "\n",
    "You can run this notebook on your laptop, a GPU is not needed :).\n",
    "\n",
    "Here we will use an extended version of the tracking algorithm introduced in exercise 1 which uses a linking algorithm that considers more than two frames at a time in a second optimization step.\n",
    "    \n",
    "You will learn\n",
    "- how this formulation addresses **typical challenges of tracking in bioimages**, like cell division and objects temporarily going out of focus.\n",
    "- how to use **_Trackmate_**, a versatile ready-to-go implementation of LAP tracking in ImageJ."
   ]
  },
  {
   "cell_type": "markdown",
   "id": "0c78487e-0b30-468f-a404-65489fda36be",
   "metadata": {
    "incorrectly_encoded_metadata": "tags=[] jp-MarkdownHeadingCollapsed=true"
   },
   "source": [
    "## Exercise 2\n",
    "\n",
    "<div class=\"alert alert-block alert-info\"><h3>Exercise 2: With your understanding of the challenges of the dataset from exercise 1, perform two-step LAP tracking using StarDist detections in ImageJ/Fiji with Trackmate.</h3>\n",
    "\n",
    "</div>\n",
    "\n",
    "<img src=\"figures/LAP_cost_matrix_2.png\" width=\"500\"/>\n",
    "\n",
    "Taken from Jaqaman et al. (2008)"
   ]
  },
  {
   "cell_type": "markdown",
   "id": "f22691f9-1447-4255-899b-da293ef1e308",
   "metadata": {},
   "source": [
    "## Install ImageJ/Fiji, including StarDist inference"
   ]
  },
  {
   "cell_type": "markdown",
   "id": "75fc590c-7643-43e4-aaa3-f9a56f4c5925",
   "metadata": {},
   "source": [
    "TODO"
   ]
  },
  {
   "cell_type": "markdown",
   "id": "b574cc15-0571-4215-ab83-699cd809f652",
   "metadata": {
    "incorrectly_encoded_metadata": "tags=[] jp-MarkdownHeadingCollapsed=true"
   },
   "source": [
    "## Load and prepare the dataset"
   ]
  },
  {
   "cell_type": "code",
   "execution_count": null,
   "id": "53d2546c-87e0-45da-840d-ca648fdc63f1",
   "metadata": {
    "tags": []
   },
   "outputs": [],
   "source": [
    "TODO"
   ]
  },
  {
   "cell_type": "markdown",
   "id": "447eff14-d2bc-4373-8ef6-8030acb2e99f",
   "metadata": {
    "incorrectly_encoded_metadata": "tags=[] jp-MarkdownHeadingCollapsed=true"
   },
   "source": [
    "## Extract detections"
   ]
  },
  {
   "cell_type": "markdown",
   "id": "0bcf886d-2404-4957-9447-26e6f41588f8",
   "metadata": {},
   "source": [
    "TODO"
   ]
  },
  {
   "cell_type": "markdown",
   "id": "4736d5f0-09e1-4cdd-8e2f-b617aa3c57f8",
   "metadata": {
    "incorrectly_encoded_metadata": "tags=[] jp-MarkdownHeadingCollapsed=true"
   },
   "source": [
    "## Extract features"
   ]
  },
  {
   "cell_type": "markdown",
   "id": "5244a289-61ee-4647-8895-3a8ae8005462",
   "metadata": {
    "incorrectly_encoded_metadata": "tags=[] jp-MarkdownHeadingCollapsed=true"
   },
   "source": [
    "## Introduction to the linear assignment problem (LAP)\n",
    "\n",
    "In the previous exercise, we have been able to track individual cells over time by linking detections frame-by-frame. However, there are multiple processes that this approach is not able to capture:\n",
    "- For tracing cell lineages, we want to capture the connection between mother and daughter cells in cell divisions. To do this, we have to link one object in frame $t$ to two objects in frame $t+1$, but the matching formulation in exercise 1 only allows one-to-one links.\n",
    "- If a cell is not detected in just a single frame, its resulting track will be split apart if we only use frame-by-frame linking.\n",
    "\n",
    "To account for these processes, Jaqaman et al. (2008) have introduced a two-step linking formulation that can be solved using the convenient linear assignment problem (LAP) formulation.\n",
    "\n",
    "The first step consists of frame-by-frame linking, similar to the matching formulation in exercise 1/3. The output are track segments for individual cells. In the second step, we define costs for linking these track segments beginning to end (gap closing) and beginning to intermediate (cell division).\n",
    "\n",
    "TODO write more about second step.\n",
    "\n",
    "<!-- TODO upate!\n",
    "The goal of the linear assignment algorithm is to select a set of pairs such that the sum of the selected weights is minimized. In the framework established by Jaqaman et al, the cost matrix is divided into four quadrants. The top left and bottom right corners correspond to direct matches between objects in frame n to objects in frame $n+1$. The bottom left corner is populated by a diagonal matrix where diagonal values correspond to the probability of a cell dividing. The top right corner is filled with another diagonal matrix in which the diagonal values correspond to the probability of cell death. A diagram of the cost matrix is shown below. -->\n",
    "\n",
    "[Jaqaman et al. (2008). Robust single-particle tracking in live-cell time-lapse sequences. Nature methods, 5(8), 695-702.](https://www.ncbi.nlm.nih.gov/pmc/articles/PMC2747604/)"
   ]
  },
  {
   "cell_type": "markdown",
   "id": "9752269c-250b-4a51-873c-8f9ce83125a8",
   "metadata": {
    "incorrectly_encoded_metadata": "tags=[] jp-MarkdownHeadingCollapsed=true"
   },
   "source": [
    "## Frame-by-frame linking"
   ]
  },
  {
   "cell_type": "markdown",
   "id": "af6416e9-ed4a-4945-b17e-bdbfdc72f241",
   "metadata": {
    "tags": []
   },
   "source": [
    "## Segment linking"
   ]
  },
  {
   "cell_type": "markdown",
   "id": "2136c032-1890-48be-a3a3-f752c1f5ba84",
   "metadata": {},
   "source": [
    "TODO"
   ]
  },
  {
   "cell_type": "markdown",
   "id": "8ba7603b-ccaf-447c-bb55-11ef77b0afd2",
   "metadata": {},
   "source": [
    "## Run the LAP"
   ]
  },
  {
   "cell_type": "markdown",
   "id": "7965409f-7693-450c-b0fe-6bede19cf196",
   "metadata": {},
   "source": [
    "TODO"
   ]
  },
  {
   "cell_type": "markdown",
   "id": "16879e4f-5df9-4c90-9599-81025ba675fa",
   "metadata": {
    "tags": []
   },
   "source": [
    "## Visualize results"
   ]
  },
  {
   "cell_type": "code",
   "execution_count": null,
   "id": "b3ba60e5-d081-4a5c-ab64-c6e567d2ede2",
   "metadata": {},
   "outputs": [],
   "source": []
  }
 ],
 "metadata": {
  "jupytext": {
   "formats": "ipynb,py:percent"
  },
  "kernelspec": {
   "display_name": "Python 3 (ipykernel)",
   "language": "python",
   "name": "python3"
  },
  "language_info": {
   "codemirror_mode": {
    "name": "ipython",
    "version": 3
   },
   "file_extension": ".py",
   "mimetype": "text/x-python",
   "name": "python",
   "nbconvert_exporter": "python",
   "pygments_lexer": "ipython3",
   "version": "3.9.12"
  }
 },
 "nbformat": 4,
 "nbformat_minor": 5
}
